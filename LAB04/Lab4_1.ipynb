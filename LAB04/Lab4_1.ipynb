{
  "nbformat": 4,
  "nbformat_minor": 0,
  "metadata": {
    "colab": {
      "name": "lab4_1.ipynb",
      "provenance": []
    },
    "kernelspec": {
      "name": "python3",
      "display_name": "Python 3"
    },
    "language_info": {
      "name": "python"
    }
  },
  "cells": [
    {
      "cell_type": "markdown",
      "source": [
        "Linear regression model : "
      ],
      "metadata": {
        "id": "mrl3fYYgzMwl"
      }
    },
    {
      "cell_type": "code",
      "execution_count": 1,
      "metadata": {
        "id": "8Hvb8GYLstJD"
      },
      "outputs": [],
      "source": [
        "import numpy as np\n",
        "import torch"
      ]
    },
    {
      "cell_type": "code",
      "source": [
        "inputs = np.array([[73, 67, 43],\n",
        "[91, 88, 64],\n",
        "[87, 134, 58],\n",
        "[102, 43, 37],\n",
        "[69, 96, 70]], dtype='float32')"
      ],
      "metadata": {
        "id": "7Pj3EGHIxIBL"
      },
      "execution_count": 2,
      "outputs": []
    },
    {
      "cell_type": "code",
      "source": [
        "targets = np.array([[56],\n",
        "[81],\n",
        "[119],\n",
        "[22],\n",
        "[103]], dtype='float32')"
      ],
      "metadata": {
        "id": "8ArW9mxjxOzO"
      },
      "execution_count": 3,
      "outputs": []
    },
    {
      "cell_type": "code",
      "source": [
        "inputs = torch.from_numpy(inputs)\n",
        "targets = torch.from_numpy(targets)"
      ],
      "metadata": {
        "id": "v8JcoxJfxSRp"
      },
      "execution_count": 4,
      "outputs": []
    },
    {
      "cell_type": "code",
      "source": [
        "weight = torch.randn(2, 3, requires_grad=True)\n",
        "bias = torch.randn(2, requires_grad=True)"
      ],
      "metadata": {
        "id": "nMNdVnoPxWqM"
      },
      "execution_count": 5,
      "outputs": []
    },
    {
      "cell_type": "code",
      "source": [
        "inputs @ weight.t() + bias"
      ],
      "metadata": {
        "colab": {
          "base_uri": "https://localhost:8080/"
        },
        "id": "UwoNcsUrxbII",
        "outputId": "5cc2d5b9-7b43-4cda-ae13-dba2bed2b5b8"
      },
      "execution_count": 6,
      "outputs": [
        {
          "output_type": "execute_result",
          "data": {
            "text/plain": [
              "tensor([[-29.3858, -31.7851],\n",
              "        [-52.3963, -40.2111],\n",
              "        [-49.8094, -29.9758],\n",
              "        [ -1.8888, -51.1429],\n",
              "        [-74.5067, -27.3179]], grad_fn=<AddBackward0>)"
            ]
          },
          "metadata": {},
          "execution_count": 6
        }
      ]
    },
    {
      "cell_type": "code",
      "source": [
        "def model(inputs):\n",
        "    return inputs @ weight.t() + bias"
      ],
      "metadata": {
        "id": "J9hXCw9Fxguj"
      },
      "execution_count": 7,
      "outputs": []
    },
    {
      "cell_type": "code",
      "source": [
        "prediction = model(inputs)\n",
        "print(prediction)"
      ],
      "metadata": {
        "colab": {
          "base_uri": "https://localhost:8080/"
        },
        "id": "X1hqn1-OxkgS",
        "outputId": "a55841ac-d6a0-4eca-fcf7-cbafdb260296"
      },
      "execution_count": 8,
      "outputs": [
        {
          "output_type": "stream",
          "name": "stdout",
          "text": [
            "tensor([[-29.3858, -31.7851],\n",
            "        [-52.3963, -40.2111],\n",
            "        [-49.8094, -29.9758],\n",
            "        [ -1.8888, -51.1429],\n",
            "        [-74.5067, -27.3179]], grad_fn=<AddBackward0>)\n"
          ]
        }
      ]
    },
    {
      "cell_type": "markdown",
      "source": [
        "Loss Function : "
      ],
      "metadata": {
        "id": "DKIPrYWWxobZ"
      }
    },
    {
      "cell_type": "code",
      "source": [
        "diff0 = prediction - targets\n",
        "torch.sum(diff0 * diff0) / diff0.numel()"
      ],
      "metadata": {
        "colab": {
          "base_uri": "https://localhost:8080/"
        },
        "id": "qHP5x5vxxq-w",
        "outputId": "88ac3b28-5c09-4337-dd1e-3ce7f5b12c88"
      },
      "execution_count": 9,
      "outputs": [
        {
          "output_type": "execute_result",
          "data": {
            "text/plain": [
              "tensor(15258.5986, grad_fn=<DivBackward0>)"
            ]
          },
          "metadata": {},
          "execution_count": 9
        }
      ]
    },
    {
      "cell_type": "code",
      "source": [
        "def mse(t1, t2):\n",
        "    diff = t1 - t2\n",
        "    return torch.sum(diff * diff) / diff.numel()"
      ],
      "metadata": {
        "id": "7TENXm9WxzsX"
      },
      "execution_count": 10,
      "outputs": []
    },
    {
      "cell_type": "code",
      "source": [
        "loss = mse(prediction, targets)\n",
        "print(loss)"
      ],
      "metadata": {
        "colab": {
          "base_uri": "https://localhost:8080/"
        },
        "id": "IEPvQL0Hx3yY",
        "outputId": "6e8deaa2-3f82-4c0f-e4e4-16cc5063eafc"
      },
      "execution_count": 11,
      "outputs": [
        {
          "output_type": "stream",
          "name": "stdout",
          "text": [
            "tensor(15258.5986, grad_fn=<DivBackward0>)\n"
          ]
        }
      ]
    },
    {
      "cell_type": "markdown",
      "source": [
        "Compute Gradients : "
      ],
      "metadata": {
        "id": "Pk7cHdsbyBdc"
      }
    },
    {
      "cell_type": "code",
      "source": [
        "loss.backward()\n",
        "print(weight.grad)\n",
        "print(bias.grad)"
      ],
      "metadata": {
        "colab": {
          "base_uri": "https://localhost:8080/"
        },
        "id": "oXGm72sEyHg3",
        "outputId": "da8cc70c-b50d-4b32-a110-3985c188a822"
      },
      "execution_count": 12,
      "outputs": [
        {
          "output_type": "stream",
          "name": "stdout",
          "text": [
            "tensor([[ -9548.6504, -11629.6074,  -7061.8496],\n",
            "        [ -9370.3857, -10433.3213,  -6400.2822]])\n",
            "tensor([-117.7974, -112.2866])\n"
          ]
        }
      ]
    },
    {
      "cell_type": "markdown",
      "source": [
        "Train the model using gradient descent : "
      ],
      "metadata": {
        "id": "gcObIImuyPd_"
      }
    },
    {
      "cell_type": "code",
      "source": [
        "with torch.no_grad():\n",
        "    weight -= weight.grad * 1e-5\n",
        "    bias -= bias.grad * 1e-5\n",
        "    weight.grad.zero_()\n",
        "    bias.grad.zero_()"
      ],
      "metadata": {
        "id": "dXeugGcIyTbA"
      },
      "execution_count": 13,
      "outputs": []
    },
    {
      "cell_type": "code",
      "source": [
        "prediction = model(inputs)\n",
        "loss = mse(prediction, targets)\n",
        "print(loss)"
      ],
      "metadata": {
        "colab": {
          "base_uri": "https://localhost:8080/"
        },
        "id": "ruhpfVBUyYQZ",
        "outputId": "b319823b-0036-4e67-8750-42e57e06b76b"
      },
      "execution_count": 14,
      "outputs": [
        {
          "output_type": "stream",
          "name": "stdout",
          "text": [
            "tensor(10578.5254, grad_fn=<DivBackward0>)\n"
          ]
        }
      ]
    },
    {
      "cell_type": "code",
      "source": [
        "for i in range(100):\n",
        "    prediction = model(inputs)\n",
        "    loss = mse(prediction, targets)\n",
        "    loss.backward()\n",
        "    with torch.no_grad():\n",
        "        weight -= weight.grad * 1e-5\n",
        "        bias -= bias.grad * 1e-5\n",
        "        weight.grad.zero_()\n",
        "        bias.grad.zero_()"
      ],
      "metadata": {
        "id": "gAgLOKQ8ycy7"
      },
      "execution_count": 15,
      "outputs": []
    },
    {
      "cell_type": "code",
      "source": [
        "prediction = model(inputs)\n",
        "loss = mse(prediction, targets)\n",
        "print(loss)"
      ],
      "metadata": {
        "colab": {
          "base_uri": "https://localhost:8080/"
        },
        "id": "QnOn9XpIygVe",
        "outputId": "256b242c-3b78-40b6-ae18-5ed59829b8c7"
      },
      "execution_count": 16,
      "outputs": [
        {
          "output_type": "stream",
          "name": "stdout",
          "text": [
            "tensor(353.8745, grad_fn=<DivBackward0>)\n"
          ]
        }
      ]
    },
    {
      "cell_type": "code",
      "source": [
        "prediction,targets"
      ],
      "metadata": {
        "colab": {
          "base_uri": "https://localhost:8080/"
        },
        "id": "bwpebnDEyi_F",
        "outputId": "06c52cfe-4f50-4896-d093-4a61cd961590"
      },
      "execution_count": 17,
      "outputs": [
        {
          "output_type": "execute_result",
          "data": {
            "text/plain": [
              "(tensor([[ 64.6806,  59.3969],\n",
              "         [ 75.5647,  80.7154],\n",
              "         [121.7154, 118.5022],\n",
              "         [ 64.1421,  32.2821],\n",
              "         [ 65.1230,  93.0872]], grad_fn=<AddBackward0>), tensor([[ 56.],\n",
              "         [ 81.],\n",
              "         [119.],\n",
              "         [ 22.],\n",
              "         [103.]]))"
            ]
          },
          "metadata": {},
          "execution_count": 17
        }
      ]
    }
  ]
}