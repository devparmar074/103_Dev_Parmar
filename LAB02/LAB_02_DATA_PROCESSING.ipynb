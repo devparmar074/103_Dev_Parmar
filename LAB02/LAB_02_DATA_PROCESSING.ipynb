{
 "cells": [
  {
   "cell_type": "code",
   "execution_count": null,
   "id": "4eb5f0b2",
   "metadata": {},
   "outputs": [],
   "source": [
    "Import Libraries"
   ]
  },
  {
   "cell_type": "code",
   "execution_count": 2,
   "id": "8b41e2d4",
   "metadata": {},
   "outputs": [],
   "source": [
    "import numpy as np \n",
    "import pandas as pd\n",
    "from sklearn.preprocessing import MinMaxScaler, StandardScaler\n",
    "from sklearn.impute import SimpleImputer \n",
    "from sklearn.preprocessing import LabelEncoder\n",
    "import seaborn as sns"
   ]
  },
  {
   "cell_type": "code",
   "execution_count": null,
   "id": "206e78db",
   "metadata": {},
   "outputs": [],
   "source": [
    "#Load Data\n",
    "from google.colab import drive\n",
    "drive.mount('/content/drive')"
   ]
  },
  {
   "cell_type": "code",
   "execution_count": 5,
   "id": "558b7148",
   "metadata": {},
   "outputs": [
    {
     "name": "stdout",
     "output_type": "stream",
     "text": [
      "\n",
      "Data :\n",
      "       Price   Age     KM FuelType   HP  MetColor  Automatic    CC  Doors  \\\n",
      "0     13500  23.0  46986   Diesel   90       1.0          0  2000  three   \n",
      "1     13750  23.0  72937   Diesel   90       1.0          0  2000      3   \n",
      "2     13950  24.0  41711   Diesel   90       NaN          0  2000      3   \n",
      "3     14950  26.0  48000   Diesel   90       0.0          0  2000      3   \n",
      "4     13750  30.0  38500   Diesel   90       0.0          0  2000      3   \n",
      "...     ...   ...    ...      ...  ...       ...        ...   ...    ...   \n",
      "1431   7500   NaN  20544   Petrol   86       1.0          0  1300      3   \n",
      "1432  10845  72.0     ??   Petrol   86       0.0          0  1300      3   \n",
      "1433   8500   NaN  17016   Petrol   86       0.0          0  1300      3   \n",
      "1434   7250  70.0     ??      NaN   86       1.0          0  1300      3   \n",
      "1435   6950  76.0      1   Petrol  110       0.0          0  1600      5   \n",
      "\n",
      "      Weight  \n",
      "0       1165  \n",
      "1       1165  \n",
      "2       1165  \n",
      "3       1165  \n",
      "4       1170  \n",
      "...      ...  \n",
      "1431    1025  \n",
      "1432    1015  \n",
      "1433    1015  \n",
      "1434    1015  \n",
      "1435    1114  \n",
      "\n",
      "[1436 rows x 10 columns]\n",
      "\n",
      "Data statistics\n",
      "               Price          Age     MetColor    Automatic           CC  \\\n",
      "count   1436.000000  1336.000000  1286.000000  1436.000000  1436.000000   \n",
      "mean   10730.824513    55.672156     0.674961     0.055710  1566.827994   \n",
      "std     3626.964585    18.589804     0.468572     0.229441   187.182436   \n",
      "min     4350.000000     1.000000     0.000000     0.000000  1300.000000   \n",
      "25%     8450.000000    43.000000     0.000000     0.000000  1400.000000   \n",
      "50%     9900.000000    60.000000     1.000000     0.000000  1600.000000   \n",
      "75%    11950.000000    70.000000     1.000000     0.000000  1600.000000   \n",
      "max    32500.000000    80.000000     1.000000     1.000000  2000.000000   \n",
      "\n",
      "           Weight  \n",
      "count  1436.00000  \n",
      "mean   1072.45961  \n",
      "std      52.64112  \n",
      "min    1000.00000  \n",
      "25%    1040.00000  \n",
      "50%    1070.00000  \n",
      "75%    1085.00000  \n",
      "max    1615.00000  \n"
     ]
    }
   ],
   "source": [
    "datasets = pd.read_csv('E:\\LABS\\ML\\LAB02\\Exercise-CarData.csv', index_col=[0])\n",
    "print(\"\\nData :\\n\",datasets)\n",
    "\n",
    "print(\"\\nData statistics\\n\",datasets.describe())"
   ]
  },
  {
   "cell_type": "code",
   "execution_count": null,
   "id": "c23e9abc",
   "metadata": {},
   "outputs": [],
   "source": [
    "Apply LabelEncoder on the data to convert string labels into numeric values"
   ]
  },
  {
   "cell_type": "code",
   "execution_count": 6,
   "id": "6724c80c",
   "metadata": {},
   "outputs": [
    {
     "name": "stdout",
     "output_type": "stream",
     "text": [
      "Price          int64\n",
      "Age          float64\n",
      "KM            object\n",
      "FuelType      object\n",
      "HP            object\n",
      "MetColor     float64\n",
      "Automatic      int64\n",
      "CC             int64\n",
      "Doors         object\n",
      "Weight         int64\n",
      "dtype: object\n",
      "\n",
      "\n",
      "Input before imputation : \n",
      "\n",
      " [16900 27.0 '??' 1 '????' nan 0 2000 '3']\n"
     ]
    }
   ],
   "source": [
    "datasets.dropna(how='all',inplace=True)\n",
    "#print(\"\\nNew Data :\",datasets)\n",
    "print(datasets.dtypes)\n",
    "# All rows, all columns except last \n",
    "new_X = datasets.iloc[:, :-1].values\n",
    "# Only last column  \n",
    "new_Y = datasets.iloc[:, -1].values \n",
    "\n",
    "#FuelType\n",
    "new_X[:,3]=new_X[:,3].astype('str')\n",
    "le = LabelEncoder()\n",
    "new_X[ : ,3] = le.fit_transform(new_X[ : ,3])\n",
    "\n",
    "print(\"\\n\\nInput before imputation : \\n\\n\", new_X[6])"
   ]
  },
  {
   "cell_type": "code",
   "execution_count": null,
   "id": "4e70296b",
   "metadata": {},
   "outputs": [],
   "source": [
    "Handling null values Imputation (Replacing null values with mean and mode value of that attribute)"
   ]
  },
  {
   "cell_type": "code",
   "execution_count": 7,
   "id": "08a5d23e",
   "metadata": {},
   "outputs": [
    {
     "name": "stdout",
     "output_type": "stream",
     "text": [
      "\n",
      "\n",
      "New Input with Mean Value for NaN : \n",
      "\n",
      " [16900.0 27.0 68647.23997185081 1 101.47832167832168 1.0 0 2000 3]\n"
     ]
    }
   ],
   "source": [
    "str_to_num_dictionary={\"zero\":0,\"one\":1,\"two\":2,\"three\":3,\"four\":4,\"five\":5,\"six\":6,\"seven\":7,\"eight\":8,\"nune\":9,\"ten\":10}\n",
    "\n",
    "# 3b. Imputation (Replacing null values with mean value of that attribute)\n",
    "#for col-3\n",
    "for i in range(new_X[:,3].size):\n",
    "  #KM\n",
    "  if new_X[i,2]==\"??\":\n",
    "    new_X[i,2]=np.nan\n",
    "  #HP\n",
    "  if new_X[i,4]==\"????\":\n",
    "    new_X[i,4]=np.nan\n",
    "  #Doors\n",
    "  temp_str = str(new_X[i,8])\n",
    "  if temp_str.isnumeric():\n",
    "    new_X[i,8]=int(temp_str)\n",
    "  else:\n",
    "    new_X[i,8]=str_to_num_dictionary[temp_str]\n",
    "# Using Imputer function to replace NaN values with mean of that parameter value \n",
    "imputer = SimpleImputer(missing_values = np.nan,strategy = \"mean\")\n",
    "mode_imputer = SimpleImputer(missing_values = np.nan,strategy = \"most_frequent\")\n",
    "\n",
    "# Fitting the data, function learns the stats \n",
    "the_imputer = imputer.fit(new_X[:, 0:3])\n",
    "# fit_transform() will execute those stats on the input ie. X[:, 1:3] \n",
    "new_X[:, 0:3] = the_imputer.transform(new_X[:, 0:3])\n",
    "\n",
    "# Fitting the data, function learns the stats \n",
    "the_mode_imputer = mode_imputer.fit(new_X[:, 3:4])   \n",
    "new_X[:, 3:4] = the_mode_imputer.transform(new_X[:, 3:4])\n",
    "\n",
    "# Fitting the data, function learns the stats \n",
    "the_imputer = imputer.fit(new_X[:, 4:5])\n",
    "new_X[:, 4:5] = the_imputer.transform(new_X[:, 4:5])\n",
    "\n",
    "# Fitting the data, function learns the stats \n",
    "the_mode_imputer = mode_imputer.fit(new_X[:, 5:6])   \n",
    "new_X[:, 5:6] = the_mode_imputer.transform(new_X[:, 5:6])\n",
    "\n",
    "# filling the missing value with mean \n",
    "print(\"\\n\\nNew Input with Mean Value for NaN : \\n\\n\", new_X[6])"
   ]
  },
  {
   "cell_type": "code",
   "execution_count": 8,
   "id": "5dedbad1",
   "metadata": {},
   "outputs": [
    {
     "data": {
      "text/plain": [
       "Price        float64\n",
       "Age          float64\n",
       "KM           float64\n",
       "FuelType     float64\n",
       "HP           float64\n",
       "MetColor     float64\n",
       "Automatic    float64\n",
       "CC           float64\n",
       "Doors        float64\n",
       "dtype: object"
      ]
     },
     "execution_count": 8,
     "metadata": {},
     "output_type": "execute_result"
    }
   ],
   "source": [
    "new_datasets = pd.DataFrame(new_X,columns=datasets.columns[:-1])\n",
    "new_datasets = new_datasets.astype(float)\n",
    "new_datasets.dtypes"
   ]
  },
  {
   "cell_type": "code",
   "execution_count": null,
   "id": "0e7c0a0a",
   "metadata": {},
   "outputs": [],
   "source": [
    "Feature Selection"
   ]
  },
  {
   "cell_type": "code",
   "execution_count": 9,
   "id": "a2383cb2",
   "metadata": {},
   "outputs": [
    {
     "name": "stdout",
     "output_type": "stream",
     "text": [
      "             Price       Age        KM  FuelType        HP  MetColor  \\\n",
      "Price     1.000000 -0.845111 -0.565016  0.022730  0.308414  0.100920   \n",
      "Age      -0.845111  1.000000  0.495199  0.033599 -0.152946 -0.084719   \n",
      "KM       -0.565016  0.495199  1.000000 -0.356238 -0.332984 -0.088175   \n",
      "FuelType  0.022730  0.033599 -0.356238  1.000000  0.304205  0.021658   \n",
      "HP        0.308414 -0.152946 -0.332984  0.304205  1.000000  0.058166   \n",
      "\n",
      "          Automatic        CC     Doors  \n",
      "Price      0.033081  0.165067  0.185326  \n",
      "Age        0.030931 -0.116255 -0.151785  \n",
      "KM        -0.080743  0.296281 -0.036021  \n",
      "FuelType   0.073860 -0.499114 -0.018434  \n",
      "HP         0.013753  0.053466  0.096938  \n"
     ]
    },
    {
     "data": {
      "text/plain": [
       "<AxesSubplot:>"
      ]
     },
     "execution_count": 9,
     "metadata": {},
     "output_type": "execute_result"
    },
    {
     "data": {
      "image/png": "[encoded data removed]",
      "text/plain": [
       "<Figure size 432x288 with 2 Axes>"
      ]
     },
     "metadata": {
      "needs_background": "light"
     },
     "output_type": "display_data"
    }
   ],
   "source": [
    "corr = new_datasets.corr()\n",
    "print(corr.head())\n",
    "sns.heatmap(corr)"
   ]
  },
  {
   "cell_type": "code",
   "execution_count": 10,
   "id": "6194cbb6",
   "metadata": {},
   "outputs": [
    {
     "name": "stdout",
     "output_type": "stream",
     "text": [
      "Index(['Price', 'Age', 'KM', 'FuelType', 'HP', 'MetColor', 'Automatic', 'CC',\n",
      "       'Doors'],\n",
      "      dtype='object')\n"
     ]
    }
   ],
   "source": [
    "columns = np.full((len(new_datasets.columns),), True, dtype=bool)\n",
    "for i in range(corr.shape[0]):\n",
    "    for j in range(i+1, corr.shape[0]):\n",
    "        if corr.iloc[i,j] >= 0.9:\n",
    "            if columns[j]:\n",
    "                columns[j] = False\n",
    "selected_columns = new_datasets.columns[columns]\n",
    "print(selected_columns)"
   ]
  },
  {
   "cell_type": "code",
   "execution_count": 11,
   "id": "416fb9a4",
   "metadata": {},
   "outputs": [],
   "source": [
    "new_datasets = new_datasets[selected_columns]\n"
   ]
  },
  {
   "cell_type": "code",
   "execution_count": null,
   "id": "5d02a9d6",
   "metadata": {},
   "outputs": [],
   "source": [
    "Scaling and Transformation"
   ]
  },
  {
   "cell_type": "code",
   "execution_count": 12,
   "id": "724dea05",
   "metadata": {},
   "outputs": [],
   "source": [
    "new_X = new_datasets.iloc[:, :-1].values\n",
    "scaler = MinMaxScaler()\n",
    "std = StandardScaler()\n",
    "new_X[:,0:3] = std.fit_transform(scaler.fit_transform(new_X[:,0:3]))\n",
    "new_X[:,4:5] = std.fit_transform(scaler.fit_transform(new_X[:,4:5]))\n",
    "new_X[:,7:9] = std.fit_transform(scaler.fit_transform(new_X[:,7:9]))"
   ]
  },
  {
   "cell_type": "code",
   "execution_count": 13,
   "id": "6da70ef9",
   "metadata": {},
   "outputs": [
    {
     "name": "stdout",
     "output_type": "stream",
     "text": [
      "Dataset after preprocessing\n",
      "\n",
      "          Price           Age        KM  FuelType        HP  MetColor  \\\n",
      "0     0.763763 -1.822802e+00 -0.583476       1.0 -0.779131       1.0   \n",
      "1     0.832715 -1.822802e+00  0.115551       1.0 -0.779131       1.0   \n",
      "2     0.887877 -1.767012e+00 -0.725566       1.0 -0.779131       1.0   \n",
      "3     1.163685 -1.655430e+00 -0.556163       1.0 -0.779131       0.0   \n",
      "4     0.832715 -1.432267e+00 -0.812059       1.0 -0.779131       0.0   \n",
      "...        ...           ...       ...       ...       ...       ...   \n",
      "1431 -0.891089 -4.893269e-16 -1.295729       2.0 -1.050645       1.0   \n",
      "1432  0.031491  9.109418e-01  0.000000       2.0 -1.050645       0.0   \n",
      "1433 -0.615281 -4.893269e-16 -1.390761       2.0 -1.050645       0.0   \n",
      "1434 -0.960042  7.993604e-01  0.000000       3.0 -1.050645       1.0   \n",
      "1435 -1.042784  1.134105e+00 -1.849084       2.0  0.578438       0.0   \n",
      "\n",
      "      Automatic        CC  Doors  \n",
      "0           0.0  2.314976    3.0  \n",
      "1           0.0  2.314976    3.0  \n",
      "2           0.0  2.314976    3.0  \n",
      "3           0.0  2.314976    3.0  \n",
      "4           0.0  2.314976    3.0  \n",
      "...         ...       ...    ...  \n",
      "1431        0.0 -1.425994    3.0  \n",
      "1432        0.0 -1.425994    3.0  \n",
      "1433        0.0 -1.425994    3.0  \n",
      "1434        0.0 -1.425994    3.0  \n",
      "1435        0.0  0.177279    5.0  \n",
      "\n",
      "[1436 rows x 9 columns]\n"
     ]
    }
   ],
   "source": [
    "print(\"Dataset after preprocessing\\n\\n\",new_datasets)"
   ]
  },
  {
   "cell_type": "code",
   "execution_count": null,
   "id": "9ba1fdde",
   "metadata": {},
   "outputs": [],
   "source": []
  }
 ],
 "metadata": {
  "kernelspec": {
   "display_name": "Python 3",
   "language": "python",
   "name": "python3"
  },
  "language_info": {
   "codemirror_mode": {
    "name": "ipython",
    "version": 3
   },
   "file_extension": ".py",
   "mimetype": "text/x-python",
   "name": "python",
   "nbconvert_exporter": "python",
   "pygments_lexer": "ipython3",
   "version": "3.8.8"
  }
 },
 "nbformat": 4,
 "nbformat_minor": 5
}
