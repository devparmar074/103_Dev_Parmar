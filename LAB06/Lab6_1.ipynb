{
  "nbformat": 4,
  "nbformat_minor": 0,
  "metadata": {
    "colab": {
      "name": "ML_Lab6.ipynb",
      "provenance": []
    },
    "kernelspec": {
      "name": "python3",
      "display_name": "Python 3"
    },
    "language_info": {
      "name": "python"
    }
  },
  "cells": [
    {
      "cell_type": "code",
      "execution_count": 1,
      "metadata": {
        "id": "KfAiHTilIUeN"
      },
      "outputs": [],
      "source": [
        "from sklearn import datasets\n",
        "from matplotlib import pyplot as plt"
      ]
    },
    {
      "cell_type": "code",
      "source": [
        "data = datasets.load_iris()"
      ],
      "metadata": {
        "id": "tX9mBJGFIsDD"
      },
      "execution_count": 2,
      "outputs": []
    },
    {
      "cell_type": "code",
      "source": [
        "X = data.data\n",
        "Y = data.target"
      ],
      "metadata": {
        "id": "m3q6OKxRIu1T"
      },
      "execution_count": 3,
      "outputs": []
    },
    {
      "cell_type": "code",
      "source": [
        "X.shape,Y.shape"
      ],
      "metadata": {
        "colab": {
          "base_uri": "https://localhost:8080/"
        },
        "id": "Yc3NTO8POSWH",
        "outputId": "9fb1b484-7e08-4a6e-9f1c-72e5428ce0d5"
      },
      "execution_count": 4,
      "outputs": [
        {
          "output_type": "execute_result",
          "data": {
            "text/plain": [
              "((150, 4), (150,))"
            ]
          },
          "metadata": {},
          "execution_count": 4
        }
      ]
    },
    {
      "cell_type": "markdown",
      "source": [
        "Reducing From 4 to 3"
      ],
      "metadata": {
        "id": "ZsIg-ZS1SbKd"
      }
    },
    {
      "cell_type": "code",
      "source": [
        "from sklearn.model_selection import train_test_split\n",
        "from sklearn import decomposition\n",
        "from sklearn.naive_bayes import GaussianNB\n",
        "from sklearn.metrics import precision_score,recall_score\n",
        "X_train,X_test,y_train,y_test = train_test_split(X,Y,test_size = 0.2,random_state=79)\n",
        "pca = decomposition.PCA(n_components=3)\n",
        "pca.fit(X_train)\n",
        "print(pca.components_.shape)\n",
        "X_train_pca = pca.transform(X_train)\n",
        "X_test_pca = pca.transform(X_test)\n",
        "print(X_train_pca.shape,X_test_pca.shape)\n",
        "gnb = GaussianNB()\n",
        "gnb.fit(X_train_pca, y_train)\n",
        "gnb.score(X_test_pca,y_test)*100 # We obtained 96.67% accuracy by using PCA. now demonstrating without PCA.\n",
        "y_pred = gnb.predict(X_test_pca)\n",
        "print(\"Precision is: \",precision_score(y_test,y_pred,average=\"weighted\"))\n",
        "print(\"Recall is: \",recall_score(y_test,y_pred,average=\"weighted\"))"
      ],
      "metadata": {
        "colab": {
          "base_uri": "https://localhost:8080/"
        },
        "id": "v5vz-2X5QnIA",
        "outputId": "fd2dea96-d339-4330-dfb7-64ef94a13890"
      },
      "execution_count": 5,
      "outputs": [
        {
          "output_type": "stream",
          "name": "stdout",
          "text": [
            "(3, 4)\n",
            "(120, 3) (30, 3)\n",
            "Precision is:  0.925\n",
            "Recall is:  0.9\n"
          ]
        }
      ]
    },
    {
      "cell_type": "code",
      "source": [
        "import matplotlib.pyplot as plt\n",
        "from sklearn import decomposition\n",
        "import numpy as np\n",
        "pca = decomposition.PCA(n_components=2)\n",
        "pca.fit(X)\n",
        "X_trns = pca.transform(X)\n",
        "print('Eigenvectors or principal component: First row must be in the direction of [1, n]')\n",
        "print(pca.components_)\n",
        "print('Eigenvalues or explained variance')\n",
        "print(pca.explained_variance_)\n",
        "plt.scatter(X_trns[:,:1],X_trns[:,1:2])\n",
        "plt.scatter(X_trns[:,:1], np.zeros(len(X_trns[:,:1])))\n",
        "plt.scatter(np.zeros(len(X_trns[:,1:2])),X_trns[:,1:2])\n",
        "print(len(X_trns[:,:1]))"
      ],
      "metadata": {
        "colab": {
          "base_uri": "https://localhost:8080/",
          "height": 373
        },
        "id": "E8B-5_aNQvoA",
        "outputId": "c46b18de-7e5c-46bf-9008-a32d9ec25d17"
      },
      "execution_count": 6,
      "outputs": [
        {
          "output_type": "stream",
          "name": "stdout",
          "text": [
            "Eigenvectors or principal component: First row must be in the direction of [1, n]\n",
            "[[ 0.36138659 -0.08452251  0.85667061  0.3582892 ]\n",
            " [ 0.65658877  0.73016143 -0.17337266 -0.07548102]]\n",
            "Eigenvalues or explained variance\n",
            "[4.22824171 0.24267075]\n",
            "150\n"
          ]
        },
        {
          "output_type": "display_data",
          "data": {
            "image/png": "[encoded data removed]",
            "text/plain": [
              "<Figure size 432x288 with 1 Axes>"
            ]
          },
          "metadata": {
            "needs_background": "light"
          }
        }
      ]
    },
    {
      "cell_type": "markdown",
      "source": [
        "Reducing From 4 to 2"
      ],
      "metadata": {
        "id": "7e1Xn_mqSjwe"
      }
    },
    {
      "cell_type": "code",
      "source": [
        "from sklearn.model_selection import train_test_split\n",
        "X_train,X_test,y_train,y_test = train_test_split(X,Y,test_size = 0.2,random_state=79)\n",
        "from sklearn import decomposition\n",
        "pca = decomposition.PCA(n_components=2)\n",
        "pca.fit(X_train)\n",
        "print(pca.components_.shape)\n",
        "X_train_pca = pca.transform(X_train)\n",
        "X_test_pca = pca.transform(X_test)\n",
        "print(X_train_pca.shape,X_test_pca.shape)\n",
        "from sklearn.naive_bayes import GaussianNB\n",
        "gnb = GaussianNB()\n",
        "gnb.fit(X_train_pca, y_train)\n",
        "print(\"Accuracy is: \",gnb.score(X_test_pca,y_test)*100) # We obtained 96.67% accuracy by using PCA. now demonstrating without PCA.\n",
        "from sklearn.metrics import precision_score,recall_score\n",
        "y_pred = gnb.predict(X_test_pca)\n",
        "print(\"Precision is: \",precision_score(y_test,y_pred,average=\"weighted\"))\n",
        "print(\"Recall is: \",recall_score(y_test,y_pred,average=\"weighted\"))"
      ],
      "metadata": {
        "colab": {
          "base_uri": "https://localhost:8080/"
        },
        "id": "bmtZ7O43RBCn",
        "outputId": "5fdd59b8-b0f2-4c24-bb05-94c770add188"
      },
      "execution_count": 7,
      "outputs": [
        {
          "output_type": "stream",
          "name": "stdout",
          "text": [
            "(2, 4)\n",
            "(120, 2) (30, 2)\n",
            "Accuracy is:  86.66666666666667\n",
            "Precision is:  0.9076923076923077\n",
            "Recall is:  0.8666666666666667\n"
          ]
        }
      ]
    },
    {
      "cell_type": "code",
      "source": [
        "# Visualizing in 2D \n",
        "import matplotlib.pyplot as plt\n",
        "from sklearn import decomposition\n",
        "import numpy as np\n",
        "pca = decomposition.PCA(n_components=2)\n",
        "pca.fit(X)\n",
        "X_trns = pca.transform(X)\n",
        "print('Eigenvectors or principal component: First row must be in the direction of [1, n]')\n",
        "print(pca.components_)\n",
        "print('Eigenvalues or explained variance')\n",
        "print(pca.explained_variance_)\n",
        "plt.scatter(X_trns[:,:1],X_trns[:,1:2])\n",
        "plt.scatter(X_trns[:,:1], np.zeros(len(X_trns[:,:1])))\n",
        "plt.scatter(np.zeros(len(X_trns[:,1:2])),X_trns[:,1:2])\n",
        "print(len(X_trns[:,:1]))"
      ],
      "metadata": {
        "colab": {
          "base_uri": "https://localhost:8080/",
          "height": 373
        },
        "id": "_PMfOLlhRG-T",
        "outputId": "889b9d90-fcc2-4ed5-e3bf-b99c9a4a6cf1"
      },
      "execution_count": 8,
      "outputs": [
        {
          "output_type": "stream",
          "name": "stdout",
          "text": [
            "Eigenvectors or principal component: First row must be in the direction of [1, n]\n",
            "[[ 0.36138659 -0.08452251  0.85667061  0.3582892 ]\n",
            " [ 0.65658877  0.73016143 -0.17337266 -0.07548102]]\n",
            "Eigenvalues or explained variance\n",
            "[4.22824171 0.24267075]\n",
            "150\n"
          ]
        },
        {
          "output_type": "display_data",
          "data": {
            "image/png": "[encoded data removed]",
            "text/plain": [
              "<Figure size 432x288 with 1 Axes>"
            ]
          },
          "metadata": {
            "needs_background": "light"
          }
        }
      ]
    },
    {
      "cell_type": "markdown",
      "source": [
        "Now , Reducing From 4 to 1"
      ],
      "metadata": {
        "id": "J-6k-eN6Ssmh"
      }
    },
    {
      "cell_type": "code",
      "source": [
        "from sklearn.model_selection import train_test_split\n",
        "X_train,X_test,y_train,y_test = train_test_split(X,Y,test_size = 0.2,random_state=79)\n",
        "from sklearn import decomposition\n",
        "pca = decomposition.PCA(n_components=1)\n",
        "pca.fit(X_train)\n",
        "print(pca.components_.shape)\n",
        "X_train_pca = pca.transform(X_train)\n",
        "X_test_pca = pca.transform(X_test)\n",
        "print(X_train_pca.shape,X_test_pca.shape)\n",
        "from sklearn.naive_bayes import GaussianNB\n",
        "gnb = GaussianNB()\n",
        "gnb.fit(X_train_pca, y_train)\n",
        "print(\"Accuracy is: \",gnb.score(X_test_pca,y_test)*100) # We obtained 96.67% accuracy by using PCA. now demonstrating without PCA.\n",
        "from sklearn.metrics import precision_score,recall_score\n",
        "y_pred = gnb.predict(X_test_pca)\n",
        "print(\"Precision is: \",precision_score(y_test,y_pred,average=\"weighted\"))\n",
        "print(\"Recall is: \",recall_score(y_test,y_pred,average=\"weighted\"))"
      ],
      "metadata": {
        "colab": {
          "base_uri": "https://localhost:8080/"
        },
        "id": "1v2bTUiXRJjR",
        "outputId": "c8f0673d-f330-43f5-f53f-a0cca09a12d6"
      },
      "execution_count": 9,
      "outputs": [
        {
          "output_type": "stream",
          "name": "stdout",
          "text": [
            "(1, 4)\n",
            "(120, 1) (30, 1)\n",
            "Accuracy is:  90.0\n",
            "Precision is:  0.925\n",
            "Recall is:  0.9\n"
          ]
        }
      ]
    },
    {
      "cell_type": "markdown",
      "source": [
        "Naive Bayes Without PCA"
      ],
      "metadata": {
        "id": "k0s3hv6eSRz1"
      }
    },
    {
      "cell_type": "code",
      "source": [
        "X = data.data\n",
        "Y = data.target"
      ],
      "metadata": {
        "id": "WfP20UpPRQtL"
      },
      "execution_count": 10,
      "outputs": []
    },
    {
      "cell_type": "code",
      "source": [
        "from sklearn.model_selection import train_test_split\n",
        "X_train,X_test,y_train,y_test = train_test_split(X,Y,test_size = 0.2,random_state=76)"
      ],
      "metadata": {
        "id": "S5EEiZ7NRVJz"
      },
      "execution_count": 11,
      "outputs": []
    },
    {
      "cell_type": "code",
      "source": [
        "gnb = GaussianNB()\n",
        "gnb.fit(X_train, y_train)"
      ],
      "metadata": {
        "colab": {
          "base_uri": "https://localhost:8080/"
        },
        "id": "BkxVQSj6RYhF",
        "outputId": "e71b1799-ff4a-4643-a8ad-0648d878d3dc"
      },
      "execution_count": 12,
      "outputs": [
        {
          "output_type": "execute_result",
          "data": {
            "text/plain": [
              "GaussianNB()"
            ]
          },
          "metadata": {},
          "execution_count": 12
        }
      ]
    },
    {
      "cell_type": "code",
      "source": [
        "gnb.score(X_test,y_test)*100"
      ],
      "metadata": {
        "colab": {
          "base_uri": "https://localhost:8080/"
        },
        "id": "tKeAlp4QRcuR",
        "outputId": "a06b3192-6a3a-4046-83b1-b6852ac8fbe3"
      },
      "execution_count": 13,
      "outputs": [
        {
          "output_type": "execute_result",
          "data": {
            "text/plain": [
              "96.66666666666667"
            ]
          },
          "metadata": {},
          "execution_count": 13
        }
      ]
    },
    {
      "cell_type": "code",
      "source": [
        "from sklearn.metrics import precision_score,recall_score\n",
        "y_pred = gnb.predict(X_test)\n",
        "print(\"Precision is: \",precision_score(y_test,y_pred,average=\"weighted\"))\n",
        "print(\"Recall is: \",recall_score(y_test,y_pred,average=\"weighted\"))"
      ],
      "metadata": {
        "colab": {
          "base_uri": "https://localhost:8080/"
        },
        "id": "cvEug4HjRgRZ",
        "outputId": "74fbfaf0-c13d-4538-c00d-a4517ed7f9f3"
      },
      "execution_count": 14,
      "outputs": [
        {
          "output_type": "stream",
          "name": "stdout",
          "text": [
            "Precision is:  0.9714285714285714\n",
            "Recall is:  0.9666666666666667\n"
          ]
        }
      ]
    },
    {
      "cell_type": "markdown",
      "source": [
        "### As we can see we obtain same result from using n_components=3 and n_component=4 (original) hence PCA is useful for dimensionality reduction."
      ],
      "metadata": {
        "id": "TdOH1_UmSIKk"
      }
    }
  ]
}