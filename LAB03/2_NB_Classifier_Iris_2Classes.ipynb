{
 "cells": [
  {
   "cell_type": "code",
   "execution_count": 1,
   "id": "35c8cf9d",
   "metadata": {},
   "outputs": [],
   "source": [
    "import numpy as np\n",
    "from sklearn import datasets\n",
    "from sklearn.naive_bayes import GaussianNB\n",
    "\n",
    "iris = datasets.load_iris()"
   ]
  },
  {
   "cell_type": "code",
   "execution_count": 2,
   "id": "184591b2",
   "metadata": {},
   "outputs": [
    {
     "name": "stdout",
     "output_type": "stream",
     "text": [
      "Feature :-  ['sepal length (cm)', 'sepal width (cm)', 'petal length (cm)', 'petal width (cm)']\n",
      "Labels :-  ['setosa' 'versicolor' 'virginica']\n",
      "Data shape (150, 4)\n",
      "Target shape (150,)\n",
      "Data Type:- <class 'numpy.ndarray'>\n",
      "\n",
      "New data shape : (100, 4)\n",
      "\n",
      "New Target shape : (100,)\n"
     ]
    }
   ],
   "source": [
    "print(\"Feature :- \",iris.feature_names)\n",
    "print(\"Labels :- \",iris.target_names)\n",
    "print(\"Data shape\",iris.data.shape)\n",
    "print(\"Target shape\",iris.target.shape)\n",
    "print(\"Data Type:-\",type(iris.data))\n",
    "\n",
    "new_data = iris.data[50:,:]\n",
    "new_target = iris.target[50:]\n",
    "\n",
    "print(\"\\nNew data shape :\",new_data.shape)\n",
    "print(\"\\nNew Target shape :\",new_target.shape)"
   ]
  },
  {
   "cell_type": "code",
   "execution_count": 3,
   "id": "fb1d9683",
   "metadata": {},
   "outputs": [],
   "source": [
    "from sklearn.model_selection import train_test_split\n",
    "data_train,data_test,target_train,target_test = train_test_split(new_data,new_target,test_size = 0.30,random_state =5)"
   ]
  },
  {
   "cell_type": "code",
   "execution_count": 4,
   "id": "4d5e438f",
   "metadata": {},
   "outputs": [
    {
     "name": "stdout",
     "output_type": "stream",
     "text": [
      "Target Prediction :-  [2 1 1 1 2 1 1 2 1 1 2 1 2 1 2 1 1 2 1 1 2 1 1 1 1 1 2 2 2 2]\n"
     ]
    }
   ],
   "source": [
    "import numpy as np\n",
    "gnb = GaussianNB()\n",
    "gnb.fit(data_train, target_train)\n",
    "target_predict = gnb.predict(data_test)\n",
    "print(\"Target Prediction :- \",target_predict)"
   ]
  },
  {
   "cell_type": "code",
   "execution_count": 5,
   "id": "43ca7efc",
   "metadata": {},
   "outputs": [
    {
     "name": "stdout",
     "output_type": "stream",
     "text": [
      "Accuracy :-  0.9\n"
     ]
    }
   ],
   "source": [
    "from sklearn import metrics\n",
    "print(\"Accuracy :- \",metrics.accuracy_score(target_test,target_predict))"
   ]
  },
  {
   "cell_type": "code",
   "execution_count": 6,
   "id": "ccd532db",
   "metadata": {},
   "outputs": [
    {
     "data": {
      "text/plain": [
       "array([[16,  1],\n",
       "       [ 2, 11]], dtype=int64)"
      ]
     },
     "execution_count": 6,
     "metadata": {},
     "output_type": "execute_result"
    }
   ],
   "source": [
    "from sklearn.metrics import confusion_matrix\n",
    "confusion_matrix(target_test, target_predict)"
   ]
  },
  {
   "cell_type": "code",
   "execution_count": 7,
   "id": "f69f5354",
   "metadata": {},
   "outputs": [
    {
     "name": "stdout",
     "output_type": "stream",
     "text": [
      "Precision :-  0.8888888888888888\n",
      "Recall :-  0.9411764705882353\n"
     ]
    }
   ],
   "source": [
    "from sklearn.metrics import precision_score\n",
    "from sklearn.metrics import recall_score\n",
    "\n",
    "precision = precision_score(target_test, target_predict)\n",
    "recall = recall_score(target_test, target_predict)\n",
    "\n",
    "print(\"Precision :- \",precision)\n",
    "print(\"Recall :- \",recall)"
   ]
  },
  {
   "cell_type": "code",
   "execution_count": null,
   "id": "109b1f6f",
   "metadata": {},
   "outputs": [],
   "source": []
  }
 ],
 "metadata": {
  "kernelspec": {
   "display_name": "Python 3",
   "language": "python",
   "name": "python3"
  },
  "language_info": {
   "codemirror_mode": {
    "name": "ipython",
    "version": 3
   },
   "file_extension": ".py",
   "mimetype": "text/x-python",
   "name": "python",
   "nbconvert_exporter": "python",
   "pygments_lexer": "ipython3",
   "version": "3.8.8"
  }
 },
 "nbformat": 4,
 "nbformat_minor": 5
}
