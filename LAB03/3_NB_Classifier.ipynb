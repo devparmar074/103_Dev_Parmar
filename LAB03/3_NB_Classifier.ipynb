{
 "cells": [
  {
   "cell_type": "code",
   "execution_count": 1,
   "id": "753c97a7",
   "metadata": {},
   "outputs": [],
   "source": [
    "from sklearn import datasets\n",
    "from sklearn.naive_bayes import GaussianNB\n",
    "\n",
    "iris = datasets.load_iris()"
   ]
  },
  {
   "cell_type": "code",
   "execution_count": 2,
   "id": "b817a8e5",
   "metadata": {},
   "outputs": [
    {
     "name": "stdout",
     "output_type": "stream",
     "text": [
      "Features:  ['sepal length (cm)', 'sepal width (cm)', 'petal length (cm)', 'petal width (cm)']\n",
      "Labels:  ['setosa' 'versicolor' 'virginica']\n"
     ]
    },
    {
     "data": {
      "text/plain": [
       "(150, 4)"
      ]
     },
     "execution_count": 2,
     "metadata": {},
     "output_type": "execute_result"
    }
   ],
   "source": [
    "print(\"Features: \", iris.feature_names)\n",
    "print(\"Labels: \", iris.target_names)\n",
    "iris.data.shape\n"
   ]
  },
  {
   "cell_type": "code",
   "execution_count": 3,
   "id": "de7a88f0",
   "metadata": {},
   "outputs": [
    {
     "name": "stdout",
     "output_type": "stream",
     "text": [
      "Features:  ['sepal length (cm)', 'sepal width (cm)', 'petal length (cm)', 'petal width (cm)']\n",
      "Labels:  ['setosa' 'versicolor' 'virginica']\n"
     ]
    },
    {
     "data": {
      "text/plain": [
       "(150, 4)"
      ]
     },
     "execution_count": 3,
     "metadata": {},
     "output_type": "execute_result"
    }
   ],
   "source": [
    "print(\"Features: \", iris.feature_names)\n",
    "print(\"Labels: \", iris.target_names)\n",
    "iris.data.shape"
   ]
  },
  {
   "cell_type": "code",
   "execution_count": 4,
   "id": "dbe8625e",
   "metadata": {},
   "outputs": [],
   "source": [
    "from sklearn.model_selection import train_test_split\n",
    "data_train, data_test, target_train, target_test = train_test_split(iris.data,iris.target, test_size = 0.30, random_state = 76)"
   ]
  },
  {
   "cell_type": "code",
   "execution_count": 5,
   "id": "67cc0c8c",
   "metadata": {},
   "outputs": [],
   "source": [
    "import numpy as np\n",
    "gnb = GaussianNB() \n",
    "gnb.fit(data_train, target_train) \n",
    "target_pred = gnb.predict(data_test)"
   ]
  },
  {
   "cell_type": "code",
   "execution_count": 6,
   "id": "e16d160d",
   "metadata": {},
   "outputs": [
    {
     "name": "stdout",
     "output_type": "stream",
     "text": [
      "Accuracy: 0.9777777777777777\n"
     ]
    }
   ],
   "source": [
    "from sklearn import metrics \n",
    "print(\"Accuracy:\",metrics.accuracy_score(target_test, target_pred))"
   ]
  },
  {
   "cell_type": "code",
   "execution_count": 8,
   "id": "80366d3c",
   "metadata": {},
   "outputs": [
    {
     "data": {
      "text/plain": [
       "array([[19,  0,  0],\n",
       "       [ 0, 12,  1],\n",
       "       [ 0,  0, 13]], dtype=int64)"
      ]
     },
     "execution_count": 8,
     "metadata": {},
     "output_type": "execute_result"
    }
   ],
   "source": [
    "from sklearn.metrics import confusion_matrix\n",
    "confusion_matrix(target_test, target_pred)"
   ]
  },
  {
   "cell_type": "code",
   "execution_count": 9,
   "id": "1a9ec63d",
   "metadata": {},
   "outputs": [
    {
     "name": "stdout",
     "output_type": "stream",
     "text": [
      "precision: [1.         1.         0.92857143]\n",
      "recall: [1.         0.92307692 1.        ]\n"
     ]
    }
   ],
   "source": [
    "from sklearn.metrics import precision_score\n",
    "from sklearn.metrics import recall_score\n",
    "\n",
    "precision = precision_score(target_test, target_pred, average=None)\n",
    "recall = recall_score(target_test, target_pred, average=None)\n",
    "\n",
    "print('precision: {}'.format(precision))\n",
    "print('recall: {}'.format(recall))"
   ]
  },
  {
   "cell_type": "code",
   "execution_count": 10,
   "id": "28a79cfa",
   "metadata": {},
   "outputs": [],
   "source": [
    "#EXCERCISE : "
   ]
  },
  {
   "cell_type": "code",
   "execution_count": 11,
   "id": "89e65a84",
   "metadata": {},
   "outputs": [],
   "source": [
    "#TASK 1 : Try the algo on Dataset2 - OneHotEncoding of features: and Train test Division 75%-25%"
   ]
  },
  {
   "cell_type": "code",
   "execution_count": 12,
   "id": "0bc589d8",
   "metadata": {},
   "outputs": [],
   "source": [
    "import numpy as np \n",
    "import pandas as pd\n",
    "from sklearn.impute import SimpleImputer \n",
    "from sklearn.preprocessing import OneHotEncoder,LabelEncoder\n",
    "from sklearn.model_selection import train_test_split\n",
    "from sklearn import metrics\n",
    "from sklearn.metrics import confusion_matrix\n",
    "from sklearn.metrics import precision_score\n",
    "from sklearn.metrics import recall_score"
   ]
  },
  {
   "cell_type": "code",
   "execution_count": 13,
   "id": "c3ff8f53",
   "metadata": {},
   "outputs": [
    {
     "name": "stdout",
     "output_type": "stream",
     "text": [
      "\n",
      "\n",
      "Data: \n",
      "    Outlook Temp Wind Humidity Class\n",
      "0        R    H    F   Normal     N\n",
      "1        R    H    T     High     N\n",
      "2        O    H    F   Normal     Y\n",
      "3        S    M    F   Normal     N\n",
      "4        S    M    F   Normal     Y\n",
      "5        S    M    T      Low     Y\n",
      "6        O    C    T   Normal     Y\n",
      "7        R    C    F   Normal     Y\n",
      "8        R    C    F      Low     Y\n",
      "9        S    M    F     High     Y\n",
      "10       R    M    T     High     Y\n",
      "11       O    M    T      Low     Y\n",
      "12       O    H    F   Normal     Y\n",
      "13       S    M    T   Normal     N\n"
     ]
    }
   ],
   "source": [
    "dataset = pd.read_csv('E:\\LABS\\ML2\\LAB03\\Dataset2.csv')\n",
    "print(\"\\n\\nData: \\n\",dataset)"
   ]
  },
  {
   "cell_type": "code",
   "execution_count": 14,
   "id": "b5dd5f65",
   "metadata": {},
   "outputs": [
    {
     "name": "stdout",
     "output_type": "stream",
     "text": [
      "One Hot Encoder:\n",
      "\n",
      "     Outlook_O  Outlook_R  Outlook_S  Temp_C  Temp_H  Temp_M  Humidity_High  \\\n",
      "0           0          1          0       0       1       0              0   \n",
      "1           0          1          0       0       1       0              1   \n",
      "2           1          0          0       0       1       0              0   \n",
      "3           0          0          1       0       0       1              0   \n",
      "4           0          0          1       0       0       1              0   \n",
      "5           0          0          1       0       0       1              0   \n",
      "6           1          0          0       1       0       0              0   \n",
      "7           0          1          0       1       0       0              0   \n",
      "8           0          1          0       1       0       0              0   \n",
      "9           0          0          1       0       0       1              1   \n",
      "10          0          1          0       0       0       1              1   \n",
      "11          1          0          0       0       0       1              0   \n",
      "12          1          0          0       0       1       0              0   \n",
      "13          0          0          1       0       0       1              0   \n",
      "\n",
      "    Humidity_Low  Humidity_Normal  Wind_F  Wind_T  Class_Y  \n",
      "0              0                1       1       0        0  \n",
      "1              0                0       0       1        0  \n",
      "2              0                1       1       0        1  \n",
      "3              0                1       1       0        0  \n",
      "4              0                1       1       0        1  \n",
      "5              1                0       0       1        1  \n",
      "6              0                1       0       1        1  \n",
      "7              0                1       1       0        1  \n",
      "8              1                0       1       0        1  \n",
      "9              0                0       1       0        1  \n",
      "10             0                0       0       1        1  \n",
      "11             1                0       0       1        1  \n",
      "12             0                1       1       0        1  \n",
      "13             0                1       0       1        0  \n"
     ]
    }
   ],
   "source": [
    "data= pd.get_dummies(dataset,columns=['Outlook','Temp','Humidity','Wind','Class'])\n",
    "data= data.drop(['Class_N'],axis=1)\n",
    "print(\"One Hot Encoder:\\n\\n\",data)"
   ]
  },
  {
   "cell_type": "code",
   "execution_count": 15,
   "id": "a17eea34",
   "metadata": {},
   "outputs": [],
   "source": [
    "#train-test split data 75%-25%"
   ]
  },
  {
   "cell_type": "code",
   "execution_count": 16,
   "id": "e9478716",
   "metadata": {},
   "outputs": [],
   "source": [
    "X= data.iloc[:,:-1]\n",
    "Y= data.iloc[:,-1]\n",
    "data_train, data_test, target_train, target_test = train_test_split(X, Y, test_size = 0.25, random_state = 76)"
   ]
  },
  {
   "cell_type": "code",
   "execution_count": 17,
   "id": "132f89f1",
   "metadata": {},
   "outputs": [],
   "source": [
    "model = GaussianNB()\n",
    "\n",
    "#Train the model using the training sets\n",
    "model.fit(data_train, target_train)\n",
    "\n",
    "#Predict the response for test dataset\n",
    "target_pred =model.predict(data_test)"
   ]
  },
  {
   "cell_type": "code",
   "execution_count": 18,
   "id": "f1185048",
   "metadata": {},
   "outputs": [
    {
     "name": "stdout",
     "output_type": "stream",
     "text": [
      "Accuracy: 0.75\n"
     ]
    }
   ],
   "source": [
    "print(\"Accuracy:\",metrics.accuracy_score(target_test, target_pred))"
   ]
  },
  {
   "cell_type": "code",
   "execution_count": 19,
   "id": "9eeee087",
   "metadata": {},
   "outputs": [
    {
     "data": {
      "text/plain": [
       "array([[1, 0],\n",
       "       [1, 2]], dtype=int64)"
      ]
     },
     "execution_count": 19,
     "metadata": {},
     "output_type": "execute_result"
    }
   ],
   "source": [
    "confusion_matrix(target_test, target_pred)"
   ]
  },
  {
   "cell_type": "code",
   "execution_count": 20,
   "id": "bc90b1a6",
   "metadata": {},
   "outputs": [
    {
     "name": "stdout",
     "output_type": "stream",
     "text": [
      "precision: [0.5 1. ]\n",
      "recall: [1.         0.66666667]\n"
     ]
    }
   ],
   "source": [
    "precision = precision_score(target_test, target_pred, average=None)\n",
    "recall = recall_score(target_test, target_pred, average=None)\n",
    "print(f'precision: {precision}')\n",
    "print(f'recall: {recall}')"
   ]
  },
  {
   "cell_type": "code",
   "execution_count": 21,
   "id": "632fcab4",
   "metadata": {},
   "outputs": [
    {
     "name": "stdout",
     "output_type": "stream",
     "text": [
      "Play: [0]\n",
      "Play: [1]\n"
     ]
    }
   ],
   "source": [
    "#Outlook is ’Rainy’, Temperature is ’Mild’, Humidity =’Normal’, and Wind = ’False’?\n",
    "output1= model.predict([[0,1,0,0,0,1,0,0,1,1,0]])\n",
    "print(f'Play: {output1}')\n",
    "#Outlook is ’Sunny’, Temeprature is ’Cool’, Humidity =’High’, and Wind = ’True'\n",
    "output2= model.predict([[0,0,1,1,0,0,1,0,0,0,1]])\n",
    "print(f'Play: {output2}')"
   ]
  },
  {
   "cell_type": "code",
   "execution_count": 22,
   "id": "37c432db",
   "metadata": {},
   "outputs": [],
   "source": [
    "#Task 2: Apply algorithm on wine dataset - LabelEncoding of features: and Train test Division 80%-20%"
   ]
  },
  {
   "cell_type": "code",
   "execution_count": 23,
   "id": "ff5d9300",
   "metadata": {},
   "outputs": [],
   "source": [
    "from sklearn import datasets\n",
    "from sklearn.naive_bayes import GaussianNB\n",
    "wine= datasets.load_wine()"
   ]
  },
  {
   "cell_type": "code",
   "execution_count": 24,
   "id": "abfeb42c",
   "metadata": {},
   "outputs": [
    {
     "name": "stdout",
     "output_type": "stream",
     "text": [
      "Features:  ['alcohol', 'malic_acid', 'ash', 'alcalinity_of_ash', 'magnesium', 'total_phenols', 'flavanoids', 'nonflavanoid_phenols', 'proanthocyanins', 'color_intensity', 'hue', 'od280/od315_of_diluted_wines', 'proline']\n",
      "Labels:  ['class_0' 'class_1' 'class_2']\n",
      "\n",
      "Data Shape:  (178, 13)\n",
      "\n",
      "Target Shape: (178,)\n"
     ]
    }
   ],
   "source": [
    "print(\"Features: \", wine.feature_names)\n",
    "# print the label type of wine(class_0, class_1, class_2)\n",
    "print(\"Labels: \", wine.target_names)\n",
    "# print data(feature)shape & target shape\n",
    "print(\"\\nData Shape: \",wine.data.shape)\n",
    "print(\"\\nTarget Shape:\",wine.target.shape)"
   ]
  },
  {
   "cell_type": "code",
   "execution_count": 25,
   "id": "a36d60fd",
   "metadata": {},
   "outputs": [],
   "source": [
    "data_train, data_test, target_train, target_test = train_test_split(X, Y, test_size = 0.20, random_state = 76)"
   ]
  },
  {
   "cell_type": "code",
   "execution_count": 26,
   "id": "dd8f8683",
   "metadata": {},
   "outputs": [],
   "source": [
    "gnb= GaussianNB()\n",
    "model.fit(data_train, target_train)\n",
    "target_pred= model.predict(data_test)"
   ]
  },
  {
   "cell_type": "code",
   "execution_count": 27,
   "id": "e47c56e4",
   "metadata": {},
   "outputs": [
    {
     "name": "stdout",
     "output_type": "stream",
     "text": [
      "Accuracy: 0.6666666666666666\n"
     ]
    },
    {
     "data": {
      "text/plain": [
       "array([[1, 0],\n",
       "       [1, 1]], dtype=int64)"
      ]
     },
     "execution_count": 27,
     "metadata": {},
     "output_type": "execute_result"
    }
   ],
   "source": [
    "print(\"Accuracy:\",metrics.accuracy_score(target_test, target_pred))\n",
    "confusion_matrix(target_test, target_pred)"
   ]
  },
  {
   "cell_type": "code",
   "execution_count": 28,
   "id": "aa6bef56",
   "metadata": {},
   "outputs": [
    {
     "name": "stdout",
     "output_type": "stream",
     "text": [
      "precision: [0.5 1. ]\n",
      "recall: [1.  0.5]\n"
     ]
    }
   ],
   "source": [
    "precision = precision_score(target_test, target_pred, average=None)\n",
    "recall = recall_score(target_test, target_pred, average=None)\n",
    "\n",
    "print(f'precision: {precision}')\n",
    "print(f'recall: {recall}')"
   ]
  },
  {
   "cell_type": "code",
   "execution_count": null,
   "id": "3c718648",
   "metadata": {},
   "outputs": [],
   "source": []
  }
 ],
 "metadata": {
  "kernelspec": {
   "display_name": "Python 3",
   "language": "python",
   "name": "python3"
  },
  "language_info": {
   "codemirror_mode": {
    "name": "ipython",
    "version": 3
   },
   "file_extension": ".py",
   "mimetype": "text/x-python",
   "name": "python",
   "nbconvert_exporter": "python",
   "pygments_lexer": "ipython3",
   "version": "3.8.8"
  }
 },
 "nbformat": 4,
 "nbformat_minor": 5
}
