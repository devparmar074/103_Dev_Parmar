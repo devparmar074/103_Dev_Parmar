{
 "cells": [
  {
   "cell_type": "code",
   "execution_count": 1,
   "id": "973d16e7",
   "metadata": {},
   "outputs": [],
   "source": [
    "from sklearn import preprocessing\n",
    "from sklearn.naive_bayes import GaussianNB,MultinomialNB\n",
    "import pandas as pd\n",
    "from sklearn.model_selection import train_test_split\n",
    "from pandas.core.common import random_state"
   ]
  },
  {
   "cell_type": "code",
   "execution_count": 2,
   "id": "ce8bfacd",
   "metadata": {},
   "outputs": [],
   "source": [
    "weather = ['Sunny', 'Sunny', 'Overcast', 'Rainy', 'Rainy','Rainy', 'Overcast',\n",
    "           'Sunny', 'Sunny', 'Rainy', 'Sunny', 'Overcast', 'Overcast', 'Rainy']\n",
    "\n",
    "temp = ['Hot','Hot','Hot','Mild','Cool','Cool','Cool','Mild',\n",
    "        'Cool','Mild','Mild','Mild','Hot','Mild']\n",
    "\n",
    "play=['No','No','Yes','Yes','Yes','No','Yes','No','Yes',\n",
    "      'Yes','Yes','Yes','Yes','No']"
   ]
  },
  {
   "cell_type": "code",
   "execution_count": 3,
   "id": "2610c610",
   "metadata": {},
   "outputs": [
    {
     "name": "stdout",
     "output_type": "stream",
     "text": [
      "Weather :  [2 2 0 1 1 1 0 2 2 1 2 0 0 1]\n"
     ]
    }
   ],
   "source": [
    "le = preprocessing.LabelEncoder()\n",
    "weather_encoded = le.fit_transform(weather)\n",
    "print(\"Weather : \",weather_encoded)"
   ]
  },
  {
   "cell_type": "code",
   "execution_count": 4,
   "id": "6a2c867c",
   "metadata": {},
   "outputs": [
    {
     "name": "stdout",
     "output_type": "stream",
     "text": [
      "===============\n"
     ]
    },
    {
     "data": {
      "text/plain": [
       "0     2\n",
       "1     2\n",
       "2     0\n",
       "3     1\n",
       "4     1\n",
       "5     1\n",
       "6     0\n",
       "7     2\n",
       "8     2\n",
       "9     1\n",
       "10    2\n",
       "11    0\n",
       "12    0\n",
       "13    1\n",
       "dtype: int64"
      ]
     },
     "execution_count": 4,
     "metadata": {},
     "output_type": "execute_result"
    }
   ],
   "source": [
    "le.classes_\n",
    "\n",
    "print(\"===============\")\n",
    "\n",
    "pd.Series(weather_encoded)"
   ]
  },
  {
   "cell_type": "code",
   "execution_count": 5,
   "id": "d98b9d7b",
   "metadata": {},
   "outputs": [
    {
     "name": "stdout",
     "output_type": "stream",
     "text": [
      "\n",
      "temp encoded : \n",
      " [1 1 1 2 0 0 0 2 0 2 2 2 1 2]\n",
      "\n",
      "Play Encoded : \n",
      " [0 0 1 1 1 0 1 0 1 1 1 1 1 0]\n"
     ]
    }
   ],
   "source": [
    "temp_encoded = le.fit_transform(temp)\n",
    "play_encoded = le.fit_transform(play)\n",
    "\n",
    "print(\"\\ntemp encoded : \\n\",temp_encoded)\n",
    "print(\"\\nPlay Encoded : \\n\",play_encoded)"
   ]
  },
  {
   "cell_type": "code",
   "execution_count": 6,
   "id": "3efe65e7",
   "metadata": {},
   "outputs": [
    {
     "name": "stdout",
     "output_type": "stream",
     "text": [
      "Feature :  ((2, 1), (2, 1), (0, 1), (1, 2), (1, 0), (1, 0), (0, 0), (2, 2), (2, 0), (1, 2), (2, 2), (0, 2), (0, 1), (1, 2))\n"
     ]
    }
   ],
   "source": [
    "feature = tuple(zip(weather_encoded,temp_encoded))\n",
    "print(\"Feature : \",feature)"
   ]
  },
  {
   "cell_type": "code",
   "execution_count": 7,
   "id": "17737e79",
   "metadata": {},
   "outputs": [
    {
     "data": {
      "text/plain": [
       "MultinomialNB()"
      ]
     },
     "execution_count": 7,
     "metadata": {},
     "output_type": "execute_result"
    }
   ],
   "source": [
    "model = MultinomialNB()\n",
    "model.fit(feature,play_encoded)\n"
   ]
  },
  {
   "cell_type": "code",
   "execution_count": 8,
   "id": "f7ddc38c",
   "metadata": {},
   "outputs": [
    {
     "name": "stdout",
     "output_type": "stream",
     "text": [
      "predicted value :  [1]\n"
     ]
    }
   ],
   "source": [
    "predicted = model.predict([[0,2]])\n",
    "print(\"predicted value : \",predicted)"
   ]
  },
  {
   "cell_type": "code",
   "execution_count": 9,
   "id": "713f97ef",
   "metadata": {},
   "outputs": [
    {
     "name": "stdout",
     "output_type": "stream",
     "text": [
      "predicted value :  [1]\n"
     ]
    }
   ],
   "source": [
    "predicted = model.predict([[0,1]])\n",
    "print(\"predicted value : \",predicted)"
   ]
  },
  {
   "cell_type": "code",
   "execution_count": 10,
   "id": "5ddf32ac",
   "metadata": {},
   "outputs": [
    {
     "name": "stdout",
     "output_type": "stream",
     "text": [
      "predicted value :  [1]\n"
     ]
    }
   ],
   "source": [
    "predicted = model.predict([[2,2]])\n",
    "print(\"predicted value : \",predicted)"
   ]
  },
  {
   "cell_type": "code",
   "execution_count": 13,
   "id": "9a156cc1",
   "metadata": {},
   "outputs": [
    {
     "name": "stdout",
     "output_type": "stream",
     "text": [
      "   Outlook Temp Humidity Wind Play\n",
      "0        R    H   Normal    F    N\n",
      "1        R    H     High    T    N\n",
      "2        O    H   Normal    F    Y\n",
      "3        S    M   Normal    F    Y\n",
      "4        S    C   Normal    F    Y\n",
      "5        S    C      Low    T    N\n",
      "6        O    C   Normal    T    Y\n",
      "7        R    M   Normal    F    N\n",
      "8        R    C      Low    F    Y\n",
      "9        S    M     High    F    Y\n",
      "10       R    M     High    T    Y\n",
      "11       O    M      Low    T    Y\n",
      "12       O    H   Normal    F    Y\n",
      "13       S    M   Normal    T    N\n"
     ]
    }
   ],
   "source": [
    "dataset = pd.read_csv('E:\\LABS\\ML2\\LAB03\\Dataset1.csv')\n",
    "print(dataset)"
   ]
  },
  {
   "cell_type": "code",
   "execution_count": 14,
   "id": "735c0796",
   "metadata": {},
   "outputs": [
    {
     "name": "stdout",
     "output_type": "stream",
     "text": [
      "\n",
      "========================\n",
      "\n",
      "\n",
      "Outlook :- \n",
      "[1 1 0 2 2 2 0 1 1 2 1 0 0 2]\n",
      "\n",
      "Temp :- \n",
      "[1 1 1 2 0 0 0 2 0 2 2 2 1 2]\n",
      "\n",
      "Humidity :- \n",
      "[2 0 2 2 2 1 2 2 1 0 0 1 2 2]\n",
      "\n",
      "Wind :-\n",
      "[0 1 0 0 0 1 1 0 0 0 1 1 0 1]\n",
      "\n",
      "play :-\n",
      "[0 0 1 1 1 0 1 0 1 1 1 1 1 0]\n",
      "\n",
      "==========================\n",
      "\n"
     ]
    }
   ],
   "source": [
    "outlook_enc = le.fit_transform(dataset[\"Outlook\"])\n",
    "temp_enc = le.fit_transform(dataset[\"Temp\"])\n",
    "humidity_enc = le.fit_transform(dataset[\"Humidity\"])\n",
    "wind_enc = le.fit_transform(dataset[\"Wind\"])\n",
    "play_enc = le.fit_transform(dataset[\"Play\"])\n",
    "\n",
    "print(\"\\n========================\\n\")\n",
    "print(\"\\nOutlook :- \")\n",
    "print(outlook_enc)\n",
    "print(\"\\nTemp :- \")\n",
    "print(temp_enc)\n",
    "print(\"\\nHumidity :- \")\n",
    "print(humidity_enc)\n",
    "print(\"\\nWind :-\")\n",
    "print(wind_enc)\n",
    "print(\"\\nplay :-\")\n",
    "print(play_enc)\n",
    "print(\"\\n==========================\\n\")"
   ]
  },
  {
   "cell_type": "code",
   "execution_count": 15,
   "id": "763b0b3c",
   "metadata": {},
   "outputs": [
    {
     "name": "stdout",
     "output_type": "stream",
     "text": [
      "X_train :- \n",
      " [(0, 0, 2, 1), (1, 2, 0, 1), (0, 2, 1, 1), (1, 0, 1, 0), (1, 1, 2, 0), (1, 1, 0, 1), (1, 2, 2, 0), (0, 1, 2, 0), (2, 0, 1, 1)]\n",
      "X_test :-\n",
      " [(2, 0, 2, 0), (0, 1, 2, 0), (2, 2, 0, 0), (2, 2, 2, 0), (2, 2, 2, 1)]\n",
      "Y_train :-\n",
      " [1 1 1 1 0 0 0 1 0]\n",
      "Y_test :-\n",
      " [1 1 1 1 0]\n"
     ]
    }
   ],
   "source": [
    "Y = le.fit_transform(dataset[\"Play\"])\n",
    "dataset = dataset.drop([\"Play\"],axis=1)\n",
    "X = tuple(zip(outlook_enc,temp_enc,humidity_enc,wind_enc))\n",
    "x_train,x_test,y_train,y_test = train_test_split(X,Y,test_size=0.3,random_state=54)\n",
    "\n",
    "print(\"X_train :- \\n\",x_train)\n",
    "print(\"X_test :-\\n\",x_test)\n",
    "print(\"Y_train :-\\n\",y_train)\n",
    "print(\"Y_test :-\\n\",y_test)"
   ]
  },
  {
   "cell_type": "code",
   "execution_count": 16,
   "id": "f4f9298a",
   "metadata": {},
   "outputs": [
    {
     "data": {
      "text/plain": [
       "MultinomialNB()"
      ]
     },
     "execution_count": 16,
     "metadata": {},
     "output_type": "execute_result"
    }
   ],
   "source": [
    "model.fit(x_train,y_train)"
   ]
  },
  {
   "cell_type": "code",
   "execution_count": 17,
   "id": "9a9f9901",
   "metadata": {},
   "outputs": [
    {
     "name": "stdout",
     "output_type": "stream",
     "text": [
      "predicted :  [1]\n"
     ]
    }
   ],
   "source": [
    "predict = model.predict([[0,0,2,1]])\n",
    "print(\"predicted : \",predict)"
   ]
  },
  {
   "cell_type": "code",
   "execution_count": 18,
   "id": "3aa1ad2e",
   "metadata": {},
   "outputs": [
    {
     "name": "stdout",
     "output_type": "stream",
     "text": [
      "predicted :  [0]\n"
     ]
    }
   ],
   "source": [
    "predict = model.predict([[2,2,2,1]])\n",
    "print(\"predicted : \",predict)"
   ]
  },
  {
   "cell_type": "code",
   "execution_count": 19,
   "id": "b917c816",
   "metadata": {},
   "outputs": [
    {
     "name": "stdout",
     "output_type": "stream",
     "text": [
      "Test Prediction :-  [0 1 0 0 0]\n"
     ]
    }
   ],
   "source": [
    "test_prediction = model.predict(x_test)\n",
    "print(\"Test Prediction :- \",test_prediction)"
   ]
  },
  {
   "cell_type": "code",
   "execution_count": 20,
   "id": "3bb38975",
   "metadata": {},
   "outputs": [
    {
     "name": "stdout",
     "output_type": "stream",
     "text": [
      "predicted :  [1]\n"
     ]
    }
   ],
   "source": [
    "#Excercice\n",
    "predict = model.predict([[0,1,2,0]])\n",
    "print(\"predicted : \",predict)"
   ]
  },
  {
   "cell_type": "code",
   "execution_count": 21,
   "id": "8c5efca0",
   "metadata": {},
   "outputs": [
    {
     "name": "stdout",
     "output_type": "stream",
     "text": [
      "predicted :  [0]\n"
     ]
    }
   ],
   "source": [
    "predict = model.predict([[1,0,1,0]])\n",
    "print(\"predicted : \",predict)"
   ]
  },
  {
   "cell_type": "code",
   "execution_count": null,
   "id": "9c14d9ea",
   "metadata": {},
   "outputs": [],
   "source": []
  }
 ],
 "metadata": {
  "kernelspec": {
   "display_name": "Python 3",
   "language": "python",
   "name": "python3"
  },
  "language_info": {
   "codemirror_mode": {
    "name": "ipython",
    "version": 3
   },
   "file_extension": ".py",
   "mimetype": "text/x-python",
   "name": "python",
   "nbconvert_exporter": "python",
   "pygments_lexer": "ipython3",
   "version": "3.8.8"
  }
 },
 "nbformat": 4,
 "nbformat_minor": 5
}
