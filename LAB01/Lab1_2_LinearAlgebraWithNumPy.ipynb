{
  "cells": [
    {
      "cell_type": "markdown",
      "metadata": {
        "id": "yhOUJILEaXb-"
      },
      "source": [
        "### Create a Numpy array of size 4 x 5."
      ]
    },
    {
      "cell_type": "code",
      "execution_count": null,
      "metadata": {
        "colab": {
          "base_uri": "https://localhost:8080/"
        },
        "id": "H_-4wE9babBJ",
        "outputId": "8b148155-4177-497e-c498-48e5add91785"
      },
      "outputs": [
        {
          "name": "stdout",
          "output_type": "stream",
          "text": [
            "[[1 2 3 4 5]\n",
            " [1 2 3 4 5]\n",
            " [1 2 3 4 5]\n",
            " [1 2 3 4 5]]\n",
            "[[4.68959269e-310 4.68959426e-310 4.68959426e-310 4.68959426e-310\n",
            "  4.68959426e-310]\n",
            " [4.68959426e-310 4.68959426e-310 4.68959426e-310 4.68959426e-310\n",
            "  4.68959426e-310]\n",
            " [4.68959426e-310 4.68959426e-310 4.68959426e-310 4.68959426e-310\n",
            "  0.00000000e+000]\n",
            " [0.00000000e+000 0.00000000e+000 0.00000000e+000 0.00000000e+000\n",
            "  0.00000000e+000]]\n"
          ]
        }
      ],
      "source": [
        "import numpy as np\n",
        "\n",
        "arr = np.array([1,2,3,4,5])\n",
        "arr1 = np.array([arr, arr, arr, arr])\n",
        "print(arr1)\n",
        "\n",
        "a = np.empty((4,5))\n",
        "print(a)"
      ]
    },
    {
      "cell_type": "markdown",
      "metadata": {
        "id": "CfmtcWpTb1kp"
      },
      "source": [
        "### Randomly initialize the array."
      ]
    },
    {
      "cell_type": "code",
      "execution_count": null,
      "metadata": {
        "colab": {
          "base_uri": "https://localhost:8080/"
        },
        "id": "5zVcyaMbb8YB",
        "outputId": "6c277060-f587-4b41-daa7-9d1b5a889e12"
      },
      "outputs": [
        {
          "name": "stdout",
          "output_type": "stream",
          "text": [
            "[[0.38753332 0.6802428  0.93540491 0.59133094 0.18178683]\n",
            " [0.98908752 0.1662302  0.30975769 0.91522891 0.77491682]\n",
            " [0.69565722 0.77674356 0.04169356 0.19854752 0.12403232]\n",
            " [0.02658721 0.97765134 0.98241838 0.48287852 0.8971083 ]]\n"
          ]
        }
      ],
      "source": [
        "arr_random = np.random.rand(4,5)\n",
        "\n",
        "print(arr_random)"
      ]
    },
    {
      "cell_type": "markdown",
      "metadata": {
        "id": "FrUya6NTc5aI"
      },
      "source": [
        "### Get the Determinant and Transpose of the Matrix that you created.\n"
      ]
    },
    {
      "cell_type": "code",
      "execution_count": null,
      "metadata": {
        "colab": {
          "base_uri": "https://localhost:8080/"
        },
        "id": "hFewPCt7c6d3",
        "outputId": "c3320288-9757-4246-baa9-7a2c34383b7a"
      },
      "outputs": [
        {
          "name": "stdout",
          "output_type": "stream",
          "text": [
            "Array Before Transpose: \n",
            " [[1 2 3 4 5]\n",
            " [1 2 3 4 5]\n",
            " [1 2 3 4 5]\n",
            " [1 2 3 4 5]]\n",
            "Array After Transpose: \n",
            "[[1 1 1 1]\n",
            " [2 2 2 2]\n",
            " [3 3 3 3]\n",
            " [4 4 4 4]\n",
            " [5 5 5 5]]\n",
            "Array Determinant\n",
            "-11.999999999999995\n"
          ]
        }
      ],
      "source": [
        "print(\"Array Before Transpose: \\n\",arr1)\n",
        "\n",
        "arr_Transpose = arr1.T\n",
        "print(\"Array After Transpose: \")\n",
        "print(arr_Transpose)\n",
        "\n",
        "print(\"Array Determinant\")\n",
        "\n",
        "arr_Det = np.array([[7,8],[5,4]])\n",
        "\n",
        "print(np.linalg.det(arr_Det))\n",
        "\n",
        "# print(arr_Det.shape)\n",
        "# print(arr_Det)"
      ]
    },
    {
      "cell_type": "markdown",
      "metadata": {
        "id": "X-8hzYX5iMVJ"
      },
      "source": [
        "\n",
        "### Create another matrix of size 5 x 4 and randomly initialize it.\n",
        "### Perform Matrix multiplication."
      ]
    },
    {
      "cell_type": "code",
      "execution_count": null,
      "metadata": {
        "colab": {
          "base_uri": "https://localhost:8080/"
        },
        "id": "h3IVdBkZiPVZ",
        "outputId": "ba4a430d-3f97-4bcf-98ac-0050671d7ff7"
      },
      "outputs": [
        {
          "name": "stdout",
          "output_type": "stream",
          "text": [
            "Array 1: \n",
            " [[1 2 3 4 5]\n",
            " [1 2 3 4 5]\n",
            " [1 2 3 4 5]\n",
            " [1 2 3 4 5]]\n",
            "Array 2: \n",
            " [[0.38684005 0.76060458 0.69777394 0.02311452 0.99480183]\n",
            " [0.09485213 0.45286864 0.9801529  0.51930024 0.00748092]\n",
            " [0.81084483 0.40374051 0.42308507 0.3772264  0.93751731]\n",
            " [0.27656417 0.07520774 0.08881119 0.78621461 0.19403119]]\n",
            "Multiplicayion Array: \n",
            " [[0.38684005 1.52120915 2.09332183 0.09245808 4.97400917]\n",
            " [0.09485213 0.90573728 2.94045869 2.07720097 0.03740461]\n",
            " [0.81084483 0.80748103 1.2692552  1.50890559 4.68758653]\n",
            " [0.27656417 0.15041547 0.26643356 3.14485845 0.97015593]]\n"
          ]
        }
      ],
      "source": [
        "arr2 = np.random.rand(4,5)\n",
        "print(\"Array 1: \\n\",arr1)\n",
        "print(\"Array 2: \\n\",arr2)\n",
        "arr_mult = np.multiply(arr1,arr2)\n",
        "print(\"Multiplicayion Array: \\n\",arr_mult)"
      ]
    },
    {
      "cell_type": "markdown",
      "metadata": {
        "id": "IDO1xz_bky4h"
      },
      "source": [
        "### Find mean, median of the numpy array created."
      ]
    },
    {
      "cell_type": "code",
      "execution_count": null,
      "metadata": {
        "colab": {
          "base_uri": "https://localhost:8080/"
        },
        "id": "KZ2PZoZZk0FJ",
        "outputId": "82a0f87c-ea8a-4dff-ce29-d771dd7e842c"
      },
      "outputs": [
        {
          "name": "stdout",
          "output_type": "stream",
          "text": [
            "[[4 5 6]\n",
            " [1 5 9]\n",
            " [7 2 9]]\n",
            "Mean is:  5.333333333333333\n",
            "Median is:  5.0\n"
          ]
        }
      ],
      "source": [
        "arr3 = np.array([[4,5,6],[1,5,9],[7,2,9]])\n",
        "print(arr3)\n",
        "mean1 = np.mean(arr3)\n",
        "print(\"Mean is: \",mean1)\n",
        "median1 = np.median(arr3)\n",
        "print(\"Median is: \",median1)"
      ]
    },
    {
      "cell_type": "markdown",
      "metadata": {
        "id": "TDRqLXo8l_Ez"
      },
      "source": [
        "### Obtain each row in the second column of the first array."
      ]
    },
    {
      "cell_type": "code",
      "execution_count": null,
      "metadata": {
        "colab": {
          "base_uri": "https://localhost:8080/"
        },
        "id": "rCPTvsZ79M0C",
        "outputId": "7338a13f-490c-4934-8f03-3cafe5a25756"
      },
      "outputs": [
        {
          "name": "stdout",
          "output_type": "stream",
          "text": [
            "[[1 2 3 4 5]\n",
            " [1 2 3 4 5]\n",
            " [1 2 3 4 5]\n",
            " [1 2 3 4 5]]\n",
            "[[2]\n",
            " [2]\n",
            " [2]\n",
            " [2]]\n"
          ]
        }
      ],
      "source": [
        "import numpy as np\n",
        "arr = np.array([1,2,3,4,5])\n",
        "arr1 = np.array([arr, arr, arr, arr])\n",
        "print(arr1)\n",
        "print(arr1[:,1:2])"
      ]
    },
    {
      "cell_type": "markdown",
      "metadata": {
        "id": "otP2diKA-Ve8"
      },
      "source": [
        "### Convert Numeric entries(columns) of Iris.csv to Mean Centered Version"
      ]
    },
    {
      "cell_type": "code",
      "execution_count": null,
      "metadata": {
        "id": "TYh7Kz2qXfKh"
      },
      "outputs": [],
      "source": [
        "from google.colab import drive"
      ]
    },
    {
      "cell_type": "code",
      "execution_count": null,
      "metadata": {
        "colab": {
          "base_uri": "https://localhost:8080/"
        },
        "id": "ue77bK6uXx9L",
        "outputId": "ecc27ce9-c9fd-480d-9a16-ad8750ad73ae"
      },
      "outputs": [
        {
          "name": "stdout",
          "output_type": "stream",
          "text": [
            "Mounted at /content/drive\n"
          ]
        }
      ],
      "source": [
        "drive.mount('/content/drive')"
      ]
    },
    {
      "cell_type": "code",
      "execution_count": null,
      "metadata": {
        "id": "4vMO4SeXYAuQ"
      },
      "outputs": [],
      "source": [
        "import pandas as pd\n",
        "data=pd.read_csv('drive/MyDrive/Iris.csv')"
      ]
    },
    {
      "cell_type": "code",
      "execution_count": null,
      "metadata": {
        "colab": {
          "base_uri": "https://localhost:8080/"
        },
        "id": "JgN2JsUVZVPL",
        "outputId": "a0d6d57c-6987-4866-c734-1512f81bc1c6"
      },
      "outputs": [
        {
          "data": {
            "text/plain": [
              "Id               75.500000\n",
              "SepalLengthCm     5.843333\n",
              "SepalWidthCm      3.054000\n",
              "PetalLengthCm     3.758667\n",
              "PetalWidthCm      1.198667\n",
              "dtype: float64"
            ]
          },
          "execution_count": 4,
          "metadata": {},
          "output_type": "execute_result"
        }
      ],
      "source": [
        "datam = data.iloc[:,:]\n",
        "datam.mean()"
      ]
    },
    {
      "cell_type": "markdown",
      "metadata": {
        "id": "UEJ0HstMa__V"
      },
      "source": [
        "### Study about numpy array attributes and implement it on the first matrix."
      ]
    },
    {
      "cell_type": "code",
      "execution_count": null,
      "metadata": {
        "colab": {
          "base_uri": "https://localhost:8080/"
        },
        "id": "pOQPsMkkbEMH",
        "outputId": "d18308ef-678e-443a-ff9d-cfb3e79d515c"
      },
      "outputs": [
        {
          "name": "stdout",
          "output_type": "stream",
          "text": [
            "[[1 2]\n",
            " [3 4]\n",
            " [5 1]\n",
            " [2 3]\n",
            " [4 5]\n",
            " [1 2]\n",
            " [3 4]\n",
            " [5 1]\n",
            " [2 3]\n",
            " [4 5]]\n",
            "(10, 2)\n"
          ]
        }
      ],
      "source": [
        "print(arr1)\n",
        "\n",
        "arr1.shape\n",
        "\n",
        "brr = arr1.shape = (10,2)\n",
        "print(brr)"
      ]
    }
  ],
  "metadata": {
    "colab": {
      "collapsed_sections": [],
      "name": "Lab1_2_LinearAlgebraWithNumPy.ipynb",
      "provenance": []
    },
    "kernelspec": {
      "display_name": "Python 3",
      "language": "python",
      "name": "python3"
    },
    "language_info": {
      "codemirror_mode": {
        "name": "ipython",
        "version": 3
      },
      "file_extension": ".py",
      "mimetype": "text/x-python",
      "name": "python",
      "nbconvert_exporter": "python",
      "pygments_lexer": "ipython3",
      "version": "3.8.8"
    }
  },
  "nbformat": 4,
  "nbformat_minor": 0
}